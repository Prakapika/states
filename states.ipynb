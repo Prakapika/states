{
 "cells": [
  {
   "cell_type": "code",
   "execution_count": 1,
   "id": "ffa0bd2b",
   "metadata": {},
   "outputs": [
    {
     "name": "stdout",
     "output_type": "stream",
     "text": [
      "['{\"Telangana\": \"Hyderabad\", \"Karnataka\": \"Banglore\", \"Maharastra\": \"Mumbai\", \"West Bengal\": \"Kolkata\", \"Tamil Nadu\": \"Chennai\", \"Rajasthan\": \"Jaipur\", \"Uttarakhand\": \"Dehradun\"}']\n"
     ]
    }
   ],
   "source": [
    "# Create a dictionary of any 7 Indian states and their capitals. Write this into a JSON file.\n",
    "\n",
    "import json\n",
    "\n",
    "indian_states = {\n",
    "    \"Telangana\": \"Hyderabad\",\n",
    "    \"Karnataka\": \"Banglore\",\n",
    "    \"Maharastra\": \"Mumbai\",\n",
    "    \"West Bengal\": \"Kolkata\",\n",
    "    \"Tamil Nadu\": \"Chennai\",\n",
    "    \"Rajasthan\": \"Jaipur\",\n",
    "    \"Uttarakhand\": \"Dehradun\",\n",
    "}\n",
    "\n",
    "# Create a new json file in write mode to add above data into it.\n",
    "with open(r\"indian_states.json\", \"w\") as file:\n",
    "\n",
    "    # Write the dictionary to the file in JSON format\n",
    "    json.dump(indian_states, file)\n",
    "\n",
    "\n",
    "with open(r\"indian_states.json\", \"r\") as file:\n",
    "    data = file.readlines()\n",
    "    print(data)"
   ]
  },
  {
   "cell_type": "code",
   "execution_count": null,
   "id": "151fe913",
   "metadata": {},
   "outputs": [],
   "source": []
  }
 ],
 "metadata": {
  "kernelspec": {
   "display_name": "Python 3 (ipykernel)",
   "language": "python",
   "name": "python3"
  },
  "language_info": {
   "codemirror_mode": {
    "name": "ipython",
    "version": 3
   },
   "file_extension": ".py",
   "mimetype": "text/x-python",
   "name": "python",
   "nbconvert_exporter": "python",
   "pygments_lexer": "ipython3",
   "version": "3.10.6"
  }
 },
 "nbformat": 4,
 "nbformat_minor": 5
}
